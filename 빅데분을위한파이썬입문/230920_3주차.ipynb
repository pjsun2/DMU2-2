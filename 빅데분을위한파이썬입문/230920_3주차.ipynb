{
  "nbformat": 4,
  "nbformat_minor": 0,
  "metadata": {
    "colab": {
      "provenance": [],
      "authorship_tag": "ABX9TyNKzV1ll9IMeyWWhQIt7kXA",
      "include_colab_link": true
    },
    "kernelspec": {
      "name": "python3",
      "display_name": "Python 3"
    },
    "language_info": {
      "name": "python"
    }
  },
  "cells": [
    {
      "cell_type": "markdown",
      "metadata": {
        "id": "view-in-github",
        "colab_type": "text"
      },
      "source": [
        "<a href=\"https://colab.research.google.com/github/pjsun2/DMU2-2/blob/main/%EB%B9%85%EB%8D%B0%EB%B6%84%EC%9D%84%EC%9C%84%ED%95%9C%ED%8C%8C%EC%9D%B4%EC%8D%AC%EC%9E%85%EB%AC%B8/230920_3%EC%A3%BC%EC%B0%A8.ipynb\" target=\"_parent\"><img src=\"https://colab.research.google.com/assets/colab-badge.svg\" alt=\"Open In Colab\"/></a>"
      ]
    },
    {
      "cell_type": "code",
      "source": [
        "type(1)"
      ],
      "metadata": {
        "id": "BLW4H4PgRrUp",
        "colab": {
          "base_uri": "https://localhost:8080/"
        },
        "outputId": "e15d5dc0-cc17-4018-be7e-f3b7713e064e"
      },
      "execution_count": 1,
      "outputs": [
        {
          "output_type": "execute_result",
          "data": {
            "text/plain": [
              "int"
            ]
          },
          "metadata": {},
          "execution_count": 1
        }
      ]
    },
    {
      "cell_type": "code",
      "source": [
        "type(1.0)"
      ],
      "metadata": {
        "colab": {
          "base_uri": "https://localhost:8080/"
        },
        "id": "odEGMTsQYMGb",
        "outputId": "47501bd3-d14e-4579-b19f-278cf4edadcf"
      },
      "execution_count": 2,
      "outputs": [
        {
          "output_type": "execute_result",
          "data": {
            "text/plain": [
              "float"
            ]
          },
          "metadata": {},
          "execution_count": 2
        }
      ]
    },
    {
      "cell_type": "code",
      "source": [
        "print(type(1))"
      ],
      "metadata": {
        "colab": {
          "base_uri": "https://localhost:8080/"
        },
        "id": "wClnYjfJYORf",
        "outputId": "daef4a61-6c71-4d0c-88d5-d61ddcb445af"
      },
      "execution_count": 3,
      "outputs": [
        {
          "output_type": "stream",
          "name": "stdout",
          "text": [
            "<class 'int'>\n"
          ]
        }
      ]
    },
    {
      "cell_type": "code",
      "source": [
        "type(False)"
      ],
      "metadata": {
        "colab": {
          "base_uri": "https://localhost:8080/"
        },
        "id": "tZ22lF9RYrZh",
        "outputId": "a6e2a8a3-5385-4c94-d7c7-f213f4df266d"
      },
      "execution_count": 6,
      "outputs": [
        {
          "output_type": "execute_result",
          "data": {
            "text/plain": [
              "bool"
            ]
          },
          "metadata": {},
          "execution_count": 6
        }
      ]
    },
    {
      "cell_type": "code",
      "source": [
        "print(True and False)\n",
        "print(True or False)\n",
        "print(not True)"
      ],
      "metadata": {
        "colab": {
          "base_uri": "https://localhost:8080/"
        },
        "id": "t34wz2LEdRsK",
        "outputId": "47122013-0ac7-4468-9d87-8b5ac801b38b"
      },
      "execution_count": 9,
      "outputs": [
        {
          "output_type": "stream",
          "name": "stdout",
          "text": [
            "False\n",
            "True\n",
            "False\n"
          ]
        }
      ]
    },
    {
      "cell_type": "code",
      "source": [
        "print(5 == 3) #같다\n",
        "print(5 != 3) #다르다\n",
        "print(5 < 3)  #5보다 3이 크다\n",
        "print(5 > 3)  #5보다 3이 크다\n",
        "print(5 <= 3) #3은 5보다 크거나 같다\n",
        "print(5 >= 3) #3은 5보다 작거나 같다\n"
      ],
      "metadata": {
        "colab": {
          "base_uri": "https://localhost:8080/"
        },
        "id": "y4hEAMLcezVI",
        "outputId": "bcdf28a2-1eca-4150-ceaa-5358af4d38f1"
      },
      "execution_count": 10,
      "outputs": [
        {
          "output_type": "stream",
          "name": "stdout",
          "text": [
            "False\n",
            "True\n",
            "False\n",
            "True\n",
            "False\n",
            "True\n"
          ]
        }
      ]
    },
    {
      "cell_type": "code",
      "source": [],
      "metadata": {
        "id": "mtnQ2T7OgUlw"
      },
      "execution_count": null,
      "outputs": []
    }
  ]
}