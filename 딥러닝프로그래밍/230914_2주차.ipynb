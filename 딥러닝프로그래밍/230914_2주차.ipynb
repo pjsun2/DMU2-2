{
  "nbformat": 4,
  "nbformat_minor": 0,
  "metadata": {
    "colab": {
      "provenance": [],
      "authorship_tag": "ABX9TyMZO976fA0AXrhVzPccBZK2",
      "include_colab_link": true
    },
    "kernelspec": {
      "name": "python3",
      "display_name": "Python 3"
    },
    "language_info": {
      "name": "python"
    }
  },
  "cells": [
    {
      "cell_type": "markdown",
      "metadata": {
        "id": "view-in-github",
        "colab_type": "text"
      },
      "source": [
        "<a href=\"https://colab.research.google.com/github/pjsun2/DMU2-2/blob/main/%EB%94%A5%EB%9F%AC%EB%8B%9D%ED%94%84%EB%A1%9C%EA%B7%B8%EB%9E%98%EB%B0%8D/230914_2%EC%A3%BC%EC%B0%A8.ipynb\" target=\"_parent\"><img src=\"https://colab.research.google.com/assets/colab-badge.svg\" alt=\"Open In Colab\"/></a>"
      ]
    },
    {
      "cell_type": "markdown",
      "source": [
        "#기말고사\n",
        "- 논문 2개 분석\n",
        "- 데이타 mbti 폭력성 코드 안에서 능령껏 함수 알아서 정확도 교수님 보다 높게 a+"
      ],
      "metadata": {
        "id": "WhzqgakcEv-C"
      }
    },
    {
      "cell_type": "code",
      "source": [],
      "metadata": {
        "id": "m9SIK0MoFAGP"
      },
      "execution_count": null,
      "outputs": []
    }
  ]
}